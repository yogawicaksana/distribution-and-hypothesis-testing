{
 "cells": [
  {
   "cell_type": "code",
   "execution_count": 1,
   "metadata": {},
   "outputs": [],
   "source": [
    "import pandas as pd\n",
    "import seaborn as sns\n",
    "import matplotlib.pyplot as plt\n",
    "from scipy import stats\n",
    "import statistics\n",
    "import math\n",
    "import numpy as np"
   ]
  },
  {
   "cell_type": "markdown",
   "metadata": {},
   "source": [
    "# London weather\n",
    "https://www.kaggle.com/datasets/emmanuelfwerr/london-weather-data"
   ]
  },
  {
   "cell_type": "code",
   "execution_count": 10,
   "metadata": {},
   "outputs": [
    {
     "data": {
      "text/html": [
       "<div>\n",
       "<style scoped>\n",
       "    .dataframe tbody tr th:only-of-type {\n",
       "        vertical-align: middle;\n",
       "    }\n",
       "\n",
       "    .dataframe tbody tr th {\n",
       "        vertical-align: top;\n",
       "    }\n",
       "\n",
       "    .dataframe thead th {\n",
       "        text-align: right;\n",
       "    }\n",
       "</style>\n",
       "<table border=\"1\" class=\"dataframe\">\n",
       "  <thead>\n",
       "    <tr style=\"text-align: right;\">\n",
       "      <th></th>\n",
       "      <th>date</th>\n",
       "      <th>cloud_cover</th>\n",
       "      <th>sunshine</th>\n",
       "      <th>global_radiation</th>\n",
       "      <th>max_temp</th>\n",
       "      <th>mean_temp</th>\n",
       "      <th>min_temp</th>\n",
       "      <th>precipitation</th>\n",
       "      <th>pressure</th>\n",
       "      <th>snow_depth</th>\n",
       "    </tr>\n",
       "  </thead>\n",
       "  <tbody>\n",
       "    <tr>\n",
       "      <th>0</th>\n",
       "      <td>19790101</td>\n",
       "      <td>2.0</td>\n",
       "      <td>7.0</td>\n",
       "      <td>52.0</td>\n",
       "      <td>2.3</td>\n",
       "      <td>-4.1</td>\n",
       "      <td>-7.5</td>\n",
       "      <td>0.4</td>\n",
       "      <td>101900.0</td>\n",
       "      <td>9.0</td>\n",
       "    </tr>\n",
       "    <tr>\n",
       "      <th>1</th>\n",
       "      <td>19790102</td>\n",
       "      <td>6.0</td>\n",
       "      <td>1.7</td>\n",
       "      <td>27.0</td>\n",
       "      <td>1.6</td>\n",
       "      <td>-2.6</td>\n",
       "      <td>-7.5</td>\n",
       "      <td>0.0</td>\n",
       "      <td>102530.0</td>\n",
       "      <td>8.0</td>\n",
       "    </tr>\n",
       "    <tr>\n",
       "      <th>2</th>\n",
       "      <td>19790103</td>\n",
       "      <td>5.0</td>\n",
       "      <td>0.0</td>\n",
       "      <td>13.0</td>\n",
       "      <td>1.3</td>\n",
       "      <td>-2.8</td>\n",
       "      <td>-7.2</td>\n",
       "      <td>0.0</td>\n",
       "      <td>102050.0</td>\n",
       "      <td>4.0</td>\n",
       "    </tr>\n",
       "    <tr>\n",
       "      <th>3</th>\n",
       "      <td>19790104</td>\n",
       "      <td>8.0</td>\n",
       "      <td>0.0</td>\n",
       "      <td>13.0</td>\n",
       "      <td>-0.3</td>\n",
       "      <td>-2.6</td>\n",
       "      <td>-6.5</td>\n",
       "      <td>0.0</td>\n",
       "      <td>100840.0</td>\n",
       "      <td>2.0</td>\n",
       "    </tr>\n",
       "    <tr>\n",
       "      <th>4</th>\n",
       "      <td>19790105</td>\n",
       "      <td>6.0</td>\n",
       "      <td>2.0</td>\n",
       "      <td>29.0</td>\n",
       "      <td>5.6</td>\n",
       "      <td>-0.8</td>\n",
       "      <td>-1.4</td>\n",
       "      <td>0.0</td>\n",
       "      <td>102250.0</td>\n",
       "      <td>1.0</td>\n",
       "    </tr>\n",
       "    <tr>\n",
       "      <th>...</th>\n",
       "      <td>...</td>\n",
       "      <td>...</td>\n",
       "      <td>...</td>\n",
       "      <td>...</td>\n",
       "      <td>...</td>\n",
       "      <td>...</td>\n",
       "      <td>...</td>\n",
       "      <td>...</td>\n",
       "      <td>...</td>\n",
       "      <td>...</td>\n",
       "    </tr>\n",
       "    <tr>\n",
       "      <th>15336</th>\n",
       "      <td>20201227</td>\n",
       "      <td>1.0</td>\n",
       "      <td>0.9</td>\n",
       "      <td>32.0</td>\n",
       "      <td>7.5</td>\n",
       "      <td>7.5</td>\n",
       "      <td>7.6</td>\n",
       "      <td>2.0</td>\n",
       "      <td>98000.0</td>\n",
       "      <td>NaN</td>\n",
       "    </tr>\n",
       "    <tr>\n",
       "      <th>15337</th>\n",
       "      <td>20201228</td>\n",
       "      <td>7.0</td>\n",
       "      <td>3.7</td>\n",
       "      <td>38.0</td>\n",
       "      <td>3.6</td>\n",
       "      <td>1.1</td>\n",
       "      <td>-1.3</td>\n",
       "      <td>0.2</td>\n",
       "      <td>97370.0</td>\n",
       "      <td>NaN</td>\n",
       "    </tr>\n",
       "    <tr>\n",
       "      <th>15338</th>\n",
       "      <td>20201229</td>\n",
       "      <td>7.0</td>\n",
       "      <td>0.0</td>\n",
       "      <td>21.0</td>\n",
       "      <td>4.1</td>\n",
       "      <td>2.6</td>\n",
       "      <td>1.1</td>\n",
       "      <td>0.0</td>\n",
       "      <td>98830.0</td>\n",
       "      <td>NaN</td>\n",
       "    </tr>\n",
       "    <tr>\n",
       "      <th>15339</th>\n",
       "      <td>20201230</td>\n",
       "      <td>6.0</td>\n",
       "      <td>0.4</td>\n",
       "      <td>22.0</td>\n",
       "      <td>5.6</td>\n",
       "      <td>2.7</td>\n",
       "      <td>-0.1</td>\n",
       "      <td>0.0</td>\n",
       "      <td>100200.0</td>\n",
       "      <td>NaN</td>\n",
       "    </tr>\n",
       "    <tr>\n",
       "      <th>15340</th>\n",
       "      <td>20201231</td>\n",
       "      <td>7.0</td>\n",
       "      <td>1.3</td>\n",
       "      <td>34.0</td>\n",
       "      <td>1.5</td>\n",
       "      <td>-0.8</td>\n",
       "      <td>-3.1</td>\n",
       "      <td>0.0</td>\n",
       "      <td>100500.0</td>\n",
       "      <td>NaN</td>\n",
       "    </tr>\n",
       "  </tbody>\n",
       "</table>\n",
       "<p>15341 rows × 10 columns</p>\n",
       "</div>"
      ],
      "text/plain": [
       "           date  cloud_cover  sunshine  global_radiation  max_temp  mean_temp  \\\n",
       "0      19790101          2.0       7.0              52.0       2.3       -4.1   \n",
       "1      19790102          6.0       1.7              27.0       1.6       -2.6   \n",
       "2      19790103          5.0       0.0              13.0       1.3       -2.8   \n",
       "3      19790104          8.0       0.0              13.0      -0.3       -2.6   \n",
       "4      19790105          6.0       2.0              29.0       5.6       -0.8   \n",
       "...         ...          ...       ...               ...       ...        ...   \n",
       "15336  20201227          1.0       0.9              32.0       7.5        7.5   \n",
       "15337  20201228          7.0       3.7              38.0       3.6        1.1   \n",
       "15338  20201229          7.0       0.0              21.0       4.1        2.6   \n",
       "15339  20201230          6.0       0.4              22.0       5.6        2.7   \n",
       "15340  20201231          7.0       1.3              34.0       1.5       -0.8   \n",
       "\n",
       "       min_temp  precipitation  pressure  snow_depth  \n",
       "0          -7.5            0.4  101900.0         9.0  \n",
       "1          -7.5            0.0  102530.0         8.0  \n",
       "2          -7.2            0.0  102050.0         4.0  \n",
       "3          -6.5            0.0  100840.0         2.0  \n",
       "4          -1.4            0.0  102250.0         1.0  \n",
       "...         ...            ...       ...         ...  \n",
       "15336       7.6            2.0   98000.0         NaN  \n",
       "15337      -1.3            0.2   97370.0         NaN  \n",
       "15338       1.1            0.0   98830.0         NaN  \n",
       "15339      -0.1            0.0  100200.0         NaN  \n",
       "15340      -3.1            0.0  100500.0         NaN  \n",
       "\n",
       "[15341 rows x 10 columns]"
      ]
     },
     "execution_count": 10,
     "metadata": {},
     "output_type": "execute_result"
    }
   ],
   "source": [
    "df = pd.read_csv('london_weather.csv')\n",
    "df"
   ]
  },
  {
   "cell_type": "code",
   "execution_count": 17,
   "metadata": {},
   "outputs": [
    {
     "data": {
      "image/png": "[encoded data removed]",
      "text/plain": [
       "<Figure size 1080x360 with 3 Axes>"
      ]
     },
     "metadata": {
      "needs_background": "light"
     },
     "output_type": "display_data"
    }
   ],
   "source": [
    "col=['min_temp', 'sunshine', 'global_radiation']\n",
    "\n",
    "plt.figure(figsize=(15,5))\n",
    "\n",
    "for i, el in enumerate(col, 1):\n",
    "    plt.subplot(1,3,i)\n",
    "    sns.histplot(x=df[el], bins=20)\n",
    "    plt.axvline(x=df[el].median(), color='red', ls='--', label=\"Median\") # Median = red\n",
    "    plt.axvline(x=df[el].mean(), color='blue', label=\"Mean\") # Mean = blue\n",
    "    plt.axvline(x=statistics.mode(df[el]), color='green', label=\"Mode\")\n",
    "    plt.xlabel(el, size=14)\n",
    "    plt.legend(loc='upper right')\n",
    "plt.tight_layout()"
   ]
  },
  {
   "cell_type": "code",
   "execution_count": 18,
   "metadata": {},
   "outputs": [
    {
     "data": {
      "text/html": [
       "<div>\n",
       "<style scoped>\n",
       "    .dataframe tbody tr th:only-of-type {\n",
       "        vertical-align: middle;\n",
       "    }\n",
       "\n",
       "    .dataframe tbody tr th {\n",
       "        vertical-align: top;\n",
       "    }\n",
       "\n",
       "    .dataframe thead th {\n",
       "        text-align: right;\n",
       "    }\n",
       "</style>\n",
       "<table border=\"1\" class=\"dataframe\">\n",
       "  <thead>\n",
       "    <tr style=\"text-align: right;\">\n",
       "      <th></th>\n",
       "      <th>min_temp</th>\n",
       "      <th>count</th>\n",
       "    </tr>\n",
       "  </thead>\n",
       "  <tbody>\n",
       "    <tr>\n",
       "      <th>0</th>\n",
       "      <td>(-15, -10]</td>\n",
       "      <td>2</td>\n",
       "    </tr>\n",
       "    <tr>\n",
       "      <th>1</th>\n",
       "      <td>(-10, -5]</td>\n",
       "      <td>98</td>\n",
       "    </tr>\n",
       "    <tr>\n",
       "      <th>2</th>\n",
       "      <td>(-5, 0]</td>\n",
       "      <td>1237</td>\n",
       "    </tr>\n",
       "    <tr>\n",
       "      <th>3</th>\n",
       "      <td>(0, 5]</td>\n",
       "      <td>3803</td>\n",
       "    </tr>\n",
       "    <tr>\n",
       "      <th>4</th>\n",
       "      <td>(5, 10]</td>\n",
       "      <td>4726</td>\n",
       "    </tr>\n",
       "    <tr>\n",
       "      <th>5</th>\n",
       "      <td>(10, 15]</td>\n",
       "      <td>4366</td>\n",
       "    </tr>\n",
       "    <tr>\n",
       "      <th>6</th>\n",
       "      <td>(15, 20]</td>\n",
       "      <td>1093</td>\n",
       "    </tr>\n",
       "    <tr>\n",
       "      <th>7</th>\n",
       "      <td>(20, 25]</td>\n",
       "      <td>14</td>\n",
       "    </tr>\n",
       "  </tbody>\n",
       "</table>\n",
       "</div>"
      ],
      "text/plain": [
       "     min_temp  count\n",
       "0  (-15, -10]      2\n",
       "1   (-10, -5]     98\n",
       "2     (-5, 0]   1237\n",
       "3      (0, 5]   3803\n",
       "4     (5, 10]   4726\n",
       "5    (10, 15]   4366\n",
       "6    (15, 20]   1093\n",
       "7    (20, 25]     14"
      ]
     },
     "execution_count": 18,
     "metadata": {},
     "output_type": "execute_result"
    }
   ],
   "source": [
    "bins=np.arange(-15, 30, 5)\n",
    "min_temp=df.groupby(pd.cut(df['min_temp'], bins=bins)).size().reset_index(name='count')\n",
    "min_temp"
   ]
  },
  {
   "cell_type": "code",
   "execution_count": 22,
   "metadata": {},
   "outputs": [
    {
     "name": "stdout",
     "output_type": "stream",
     "text": [
      "Mean min_temp = 7.559867005671808\n",
      "Median min_temp = 7.8\n",
      "Mode min_temp = 0    10.0\n",
      "dtype: float64\n",
      "Max min_temp = 22.3\n",
      "Min min_temp = -11.8\n",
      "Standar dev min_temp = 5.32675580728825\n",
      " \n",
      "Mean sunshine = 4.350237924515966\n",
      "Median sunshine = 3.5\n",
      "Mode sunshine = 0    0.0\n",
      "dtype: float64\n",
      "Max sunshine = 16.0\n",
      "Min sunshine = 0.0\n",
      "Standar dev sunshine = 4.028339404679507\n",
      " \n",
      "Mean global_radiation = 118.75695078971414\n",
      "Median global_radiation = 95.0\n",
      "Mode global_radiation = 0    12.0\n",
      "dtype: float64\n",
      "Max global_radiation = 402.0\n",
      "Min global_radiation = 8.0\n",
      "Standar dev global_radiation = 88.89827186362803\n",
      " \n"
     ]
    }
   ],
   "source": [
    "for i, el in enumerate(col, 1):\n",
    "    print(f\"Mean {el} = {df[el].mean()}\")\n",
    "    print(f\"Median {el} = {df[el].median()}\")\n",
    "    print(f\"Mode {el} = {df[el].mode()}\")\n",
    "    print(f\"Max {el} = {df[el].max()}\")\n",
    "    print(f\"Min {el} = {df[el].min()}\")\n",
    "    print(f\"Standar dev {el} = {df[el].std()}\")\n",
    "    print(\" \")"
   ]
  },
  {
   "cell_type": "code",
   "execution_count": 40,
   "metadata": {},
   "outputs": [
    {
     "name": "stderr",
     "output_type": "stream",
     "text": [
      "<ipython-input-40-fe2121188bd2>:15: UserWarning: tight_layout not applied: number of columns in subplot specifications must be multiples of one another.\n",
      "  plt.tight_layout()\n"
     ]
    },
    {
     "data": {
      "image/png": "[encoded data removed]",
      "text/plain": [
       "<Figure size 1080x504 with 4 Axes>"
      ]
     },
     "metadata": {},
     "output_type": "display_data"
    }
   ],
   "source": [
    "col=['max_temp', 'pressure']\n",
    "\n",
    "plt.figure(figsize=(15,7))\n",
    "\n",
    "for i, el in enumerate(col, 1):\n",
    "    plt.subplot(2,2,i)\n",
    "    sns.histplot(x=df[el], bins=20, kde=True)\n",
    "    plt.axvline(x=df[el].median(), color='red', ls='--') # Median = red\n",
    "    plt.axvline(x=df[el].mean(), color='blue') # Mean = blue\n",
    "    plt.axvline(x=statistics.mode(df[el]), color='green')\n",
    "    plt.xlabel(el, size=10)\n",
    "    plt.subplot(2,3,i+3)\n",
    "    sns.boxplot(x=df[el])\n",
    "\n",
    "plt.tight_layout()"
   ]
  },
  {
   "cell_type": "code",
   "execution_count": 42,
   "metadata": {},
   "outputs": [
    {
     "name": "stdout",
     "output_type": "stream",
     "text": [
      "Mean max_temp = 15.388777306814523\n",
      "Median max_temp = 15.0\n",
      "Mode max_temp = 0    11.1\n",
      "dtype: float64\n",
      "Max max_temp = 37.9\n",
      "Min max_temp = -6.2\n",
      "Standar dev max_temp = 6.554753578982714\n",
      " \n",
      "Mean pressure = 101536.6055943144\n",
      "Median pressure = 101620.0\n",
      "Mode pressure = 0    101790.0\n",
      "dtype: float64\n",
      "Max pressure = 104820.0\n",
      "Min pressure = 95960.0\n",
      "Standar dev pressure = 1049.7226043657072\n",
      " \n"
     ]
    }
   ],
   "source": [
    "for i, el in enumerate(col, 1):\n",
    "    print(f\"Mean {el} = {df[el].mean()}\")\n",
    "    print(f\"Median {el} = {df[el].median()}\")\n",
    "    print(f\"Mode {el} = {df[el].mode()}\")\n",
    "    print(f\"Max {el} = {df[el].max()}\")\n",
    "    print(f\"Min {el} = {df[el].min()}\")\n",
    "    print(f\"Standar dev {el} = {df[el].std()}\")\n",
    "    print(\" \")"
   ]
  },
  {
   "cell_type": "code",
   "execution_count": 44,
   "metadata": {},
   "outputs": [
    {
     "data": {
      "text/html": [
       "<div>\n",
       "<style scoped>\n",
       "    .dataframe tbody tr th:only-of-type {\n",
       "        vertical-align: middle;\n",
       "    }\n",
       "\n",
       "    .dataframe tbody tr th {\n",
       "        vertical-align: top;\n",
       "    }\n",
       "\n",
       "    .dataframe thead th {\n",
       "        text-align: right;\n",
       "    }\n",
       "</style>\n",
       "<table border=\"1\" class=\"dataframe\">\n",
       "  <thead>\n",
       "    <tr style=\"text-align: right;\">\n",
       "      <th></th>\n",
       "      <th>date</th>\n",
       "      <th>cloud_cover</th>\n",
       "      <th>sunshine</th>\n",
       "      <th>global_radiation</th>\n",
       "      <th>max_temp</th>\n",
       "      <th>mean_temp</th>\n",
       "      <th>min_temp</th>\n",
       "      <th>precipitation</th>\n",
       "      <th>pressure</th>\n",
       "      <th>snow_depth</th>\n",
       "    </tr>\n",
       "  </thead>\n",
       "  <tbody>\n",
       "    <tr>\n",
       "      <th>count</th>\n",
       "      <td>1.534100e+04</td>\n",
       "      <td>15322.000000</td>\n",
       "      <td>15341.000000</td>\n",
       "      <td>15322.000000</td>\n",
       "      <td>15335.000000</td>\n",
       "      <td>15305.000000</td>\n",
       "      <td>15339.000000</td>\n",
       "      <td>15335.000000</td>\n",
       "      <td>15337.000000</td>\n",
       "      <td>13900.000000</td>\n",
       "    </tr>\n",
       "    <tr>\n",
       "      <th>mean</th>\n",
       "      <td>1.999567e+07</td>\n",
       "      <td>5.268242</td>\n",
       "      <td>4.350238</td>\n",
       "      <td>118.756951</td>\n",
       "      <td>15.388777</td>\n",
       "      <td>11.475511</td>\n",
       "      <td>7.559867</td>\n",
       "      <td>1.668634</td>\n",
       "      <td>101536.605594</td>\n",
       "      <td>0.037986</td>\n",
       "    </tr>\n",
       "    <tr>\n",
       "      <th>std</th>\n",
       "      <td>1.212176e+05</td>\n",
       "      <td>2.070072</td>\n",
       "      <td>4.028339</td>\n",
       "      <td>88.898272</td>\n",
       "      <td>6.554754</td>\n",
       "      <td>5.729709</td>\n",
       "      <td>5.326756</td>\n",
       "      <td>3.738540</td>\n",
       "      <td>1049.722604</td>\n",
       "      <td>0.545633</td>\n",
       "    </tr>\n",
       "    <tr>\n",
       "      <th>min</th>\n",
       "      <td>1.979010e+07</td>\n",
       "      <td>0.000000</td>\n",
       "      <td>0.000000</td>\n",
       "      <td>8.000000</td>\n",
       "      <td>-6.200000</td>\n",
       "      <td>-7.600000</td>\n",
       "      <td>-11.800000</td>\n",
       "      <td>0.000000</td>\n",
       "      <td>95960.000000</td>\n",
       "      <td>0.000000</td>\n",
       "    </tr>\n",
       "    <tr>\n",
       "      <th>25%</th>\n",
       "      <td>1.989070e+07</td>\n",
       "      <td>4.000000</td>\n",
       "      <td>0.500000</td>\n",
       "      <td>41.000000</td>\n",
       "      <td>10.500000</td>\n",
       "      <td>7.000000</td>\n",
       "      <td>3.500000</td>\n",
       "      <td>0.000000</td>\n",
       "      <td>100920.000000</td>\n",
       "      <td>0.000000</td>\n",
       "    </tr>\n",
       "    <tr>\n",
       "      <th>50%</th>\n",
       "      <td>2.000010e+07</td>\n",
       "      <td>6.000000</td>\n",
       "      <td>3.500000</td>\n",
       "      <td>95.000000</td>\n",
       "      <td>15.000000</td>\n",
       "      <td>11.400000</td>\n",
       "      <td>7.800000</td>\n",
       "      <td>0.000000</td>\n",
       "      <td>101620.000000</td>\n",
       "      <td>0.000000</td>\n",
       "    </tr>\n",
       "    <tr>\n",
       "      <th>75%</th>\n",
       "      <td>2.010070e+07</td>\n",
       "      <td>7.000000</td>\n",
       "      <td>7.200000</td>\n",
       "      <td>186.000000</td>\n",
       "      <td>20.300000</td>\n",
       "      <td>16.000000</td>\n",
       "      <td>11.800000</td>\n",
       "      <td>1.600000</td>\n",
       "      <td>102240.000000</td>\n",
       "      <td>0.000000</td>\n",
       "    </tr>\n",
       "    <tr>\n",
       "      <th>max</th>\n",
       "      <td>2.020123e+07</td>\n",
       "      <td>9.000000</td>\n",
       "      <td>16.000000</td>\n",
       "      <td>402.000000</td>\n",
       "      <td>37.900000</td>\n",
       "      <td>29.000000</td>\n",
       "      <td>22.300000</td>\n",
       "      <td>61.800000</td>\n",
       "      <td>104820.000000</td>\n",
       "      <td>22.000000</td>\n",
       "    </tr>\n",
       "  </tbody>\n",
       "</table>\n",
       "</div>"
      ],
      "text/plain": [
       "               date   cloud_cover      sunshine  global_radiation  \\\n",
       "count  1.534100e+04  15322.000000  15341.000000      15322.000000   \n",
       "mean   1.999567e+07      5.268242      4.350238        118.756951   \n",
       "std    1.212176e+05      2.070072      4.028339         88.898272   \n",
       "min    1.979010e+07      0.000000      0.000000          8.000000   \n",
       "25%    1.989070e+07      4.000000      0.500000         41.000000   \n",
       "50%    2.000010e+07      6.000000      3.500000         95.000000   \n",
       "75%    2.010070e+07      7.000000      7.200000        186.000000   \n",
       "max    2.020123e+07      9.000000     16.000000        402.000000   \n",
       "\n",
       "           max_temp     mean_temp      min_temp  precipitation       pressure  \\\n",
       "count  15335.000000  15305.000000  15339.000000   15335.000000   15337.000000   \n",
       "mean      15.388777     11.475511      7.559867       1.668634  101536.605594   \n",
       "std        6.554754      5.729709      5.326756       3.738540    1049.722604   \n",
       "min       -6.200000     -7.600000    -11.800000       0.000000   95960.000000   \n",
       "25%       10.500000      7.000000      3.500000       0.000000  100920.000000   \n",
       "50%       15.000000     11.400000      7.800000       0.000000  101620.000000   \n",
       "75%       20.300000     16.000000     11.800000       1.600000  102240.000000   \n",
       "max       37.900000     29.000000     22.300000      61.800000  104820.000000   \n",
       "\n",
       "         snow_depth  \n",
       "count  13900.000000  \n",
       "mean       0.037986  \n",
       "std        0.545633  \n",
       "min        0.000000  \n",
       "25%        0.000000  \n",
       "50%        0.000000  \n",
       "75%        0.000000  \n",
       "max       22.000000  "
      ]
     },
     "execution_count": 44,
     "metadata": {},
     "output_type": "execute_result"
    }
   ],
   "source": [
    "df.describe()"
   ]
  },
  {
   "cell_type": "code",
   "execution_count": 46,
   "metadata": {},
   "outputs": [
    {
     "data": {
      "text/plain": [
       "<Figure size 1080x504 with 0 Axes>"
      ]
     },
     "metadata": {},
     "output_type": "display_data"
    },
    {
     "data": {
      "image/png": "[encoded data removed]",
      "text/plain": [
       "<Figure size 432x288 with 2 Axes>"
      ]
     },
     "metadata": {},
     "output_type": "display_data"
    }
   ],
   "source": [
    "import numpy as np\n",
    "import seaborn as sns\n",
    "import matplotlib.pyplot as plt\n",
    "\n",
    "col='max_temp'\n",
    "plt.figure(figsize=(15,7))\n",
    "sns.set(style=\"ticks\")\n",
    "f, (ax_box, ax_hist) = plt.subplots(2, sharex=True, \n",
    "                                    gridspec_kw={\"height_ratios\": (.15, .85)})\n",
    "\n",
    "sns.boxplot(x=df[col], showfliers=False, ax=ax_box)\n",
    "plt.axvline(x=df[col].median(), color='red', ls='--', label=\"Median\") # Median = red\n",
    "plt.axvline(x=df[col].mean(), color='blue', label=\"Mean\") # Mean = blue\n",
    "plt.axvline(x=statistics.mode(df[col]), color='green', label=\"Mode\")\n",
    "sns.histplot(x=df[col], ax=ax_hist, kde=True, binwidth=3)\n",
    "plt.legend(loc='upper right')\n",
    "\n",
    "ax_box.set(yticks=[])\n",
    "sns.despine(ax=ax_hist)\n",
    "sns.despine(ax=ax_box, left=True)"
   ]
  },
  {
   "cell_type": "code",
   "execution_count": 47,
   "metadata": {},
   "outputs": [
    {
     "data": {
      "text/plain": [
       "<Figure size 1080x504 with 0 Axes>"
      ]
     },
     "metadata": {},
     "output_type": "display_data"
    },
    {
     "data": {
      "image/png": "[encoded data removed]",
      "text/plain": [
       "<Figure size 432x288 with 2 Axes>"
      ]
     },
     "metadata": {},
     "output_type": "display_data"
    }
   ],
   "source": [
    "col='pressure'\n",
    "plt.figure(figsize=(15,7))\n",
    "sns.set(style=\"ticks\")\n",
    "f, (ax_box, ax_hist) = plt.subplots(2, sharex=True, \n",
    "                                    gridspec_kw={\"height_ratios\": (.15, .85)})\n",
    "\n",
    "sns.boxplot(x=df[col], showfliers=False, ax=ax_box)\n",
    "plt.axvline(x=df[col].median(), color='red', ls='--', label=\"Median\") # Median = red\n",
    "plt.axvline(x=df[col].mean(), color='blue', label=\"Mean\") # Mean = blue\n",
    "plt.axvline(x=statistics.mode(df[col]), color='green', label=\"Mode\")\n",
    "sns.histplot(x=df[col], ax=ax_hist, kde=True)\n",
    "plt.legend(loc='upper right')\n",
    "\n",
    "ax_box.set(yticks=[])\n",
    "sns.despine(ax=ax_hist)\n",
    "sns.despine(ax=ax_box, left=True)"
   ]
  },
  {
   "cell_type": "code",
   "execution_count": 28,
   "metadata": {},
   "outputs": [
    {
     "data": {
      "text/plain": [
       "<matplotlib.collections.PathCollection at 0x1fc1870cdf0>"
      ]
     },
     "execution_count": 28,
     "metadata": {},
     "output_type": "execute_result"
    },
    {
     "data": {
      "image/png": "[encoded data removed]",
      "text/plain": [
       "<Figure size 432x288 with 1 Axes>"
      ]
     },
     "metadata": {},
     "output_type": "display_data"
    }
   ],
   "source": [
    "plt.scatter(df['pressure'], df['pressure'])"
   ]
  },
  {
   "cell_type": "markdown",
   "metadata": {},
   "source": [
    "## Hypothesis testing"
   ]
  },
  {
   "cell_type": "markdown",
   "metadata": {},
   "source": [
    "### Statement 2"
   ]
  },
  {
   "cell_type": "code",
   "execution_count": 62,
   "metadata": {},
   "outputs": [],
   "source": [
    "sample_max_temp = df['max_temp'].sample(250)"
   ]
  },
  {
   "cell_type": "code",
   "execution_count": 63,
   "metadata": {},
   "outputs": [
    {
     "data": {
      "text/plain": [
       "<AxesSubplot:ylabel='Frequency'>"
      ]
     },
     "execution_count": 63,
     "metadata": {},
     "output_type": "execute_result"
    },
    {
     "data": {
      "image/png": "[encoded data removed]",
      "text/plain": [
       "<Figure size 432x288 with 1 Axes>"
      ]
     },
     "metadata": {},
     "output_type": "display_data"
    }
   ],
   "source": [
    "sample_max_temp.plot(kind='hist')"
   ]
  },
  {
   "cell_type": "code",
   "execution_count": 64,
   "metadata": {},
   "outputs": [
    {
     "data": {
      "text/plain": [
       "(16.318799999999996, 6.382544481335394, 250)"
      ]
     },
     "execution_count": 64,
     "metadata": {},
     "output_type": "execute_result"
    }
   ],
   "source": [
    "sample_max_temp.mean(), statistics.stdev(sample_max_temp), len(sample_max_temp)"
   ]
  },
  {
   "cell_type": "markdown",
   "metadata": {},
   "source": [
    "- H0: population mean <= 15.39\n",
    "- Ha: population mean > 15.39"
   ]
  },
  {
   "cell_type": "code",
   "execution_count": 65,
   "metadata": {},
   "outputs": [
    {
     "data": {
      "text/plain": [
       "2.3039322285261377"
      ]
     },
     "execution_count": 65,
     "metadata": {},
     "output_type": "execute_result"
    }
   ],
   "source": [
    "miu = df['max_temp'].mean()\n",
    "xbar = sample_max_temp.mean()\n",
    "deviasi = statistics.stdev(sample_max_temp)\n",
    "n = len(sample_max_temp)\n",
    "\n",
    "z = (xbar - miu) / (deviasi/math.sqrt(n))\n",
    "z"
   ]
  },
  {
   "cell_type": "markdown",
   "metadata": {},
   "source": [
    "our z score is not on rejecting region (z > 1.645)\n",
    "\n",
    "- We failed reject the Null Hypothesis"
   ]
  },
  {
   "cell_type": "markdown",
   "metadata": {},
   "source": [
    "### Statement 1"
   ]
  },
  {
   "cell_type": "code",
   "execution_count": 59,
   "metadata": {},
   "outputs": [
    {
     "data": {
      "text/plain": [
       "<AxesSubplot:ylabel='Frequency'>"
      ]
     },
     "execution_count": 59,
     "metadata": {},
     "output_type": "execute_result"
    },
    {
     "data": {
      "image/png": "[encoded data removed]",
      "text/plain": [
       "<Figure size 432x288 with 1 Axes>"
      ]
     },
     "metadata": {},
     "output_type": "display_data"
    }
   ],
   "source": [
    "sample_pressure=df['pressure'].sample(300)\n",
    "sample_pressure.plot(kind='hist')"
   ]
  },
  {
   "cell_type": "code",
   "execution_count": 60,
   "metadata": {},
   "outputs": [
    {
     "data": {
      "text/plain": [
       "(101493.23333333334, 1048.24836162415, 300)"
      ]
     },
     "execution_count": 60,
     "metadata": {},
     "output_type": "execute_result"
    }
   ],
   "source": [
    "sample_pressure.mean(), statistics.stdev(sample_pressure), len(sample_pressure)"
   ]
  },
  {
   "cell_type": "code",
   "execution_count": 61,
   "metadata": {},
   "outputs": [
    {
     "data": {
      "text/plain": [
       "-0.7166522973806154"
      ]
     },
     "execution_count": 61,
     "metadata": {},
     "output_type": "execute_result"
    }
   ],
   "source": [
    "miu = df['pressure'].mean()\n",
    "xbar = sample_pressure.mean()\n",
    "deviasi = statistics.stdev(sample_pressure)\n",
    "n = len(sample_pressure)\n",
    "\n",
    "z = (xbar-miu)/(deviasi/math.sqrt(n))\n",
    "z"
   ]
  },
  {
   "cell_type": "markdown",
   "metadata": {},
   "source": [
    "our z score is not on rejecting region (-1.96 < z < 1.96)\n",
    "- **we failed to reject the null hypothesis**"
   ]
  },
  {
   "cell_type": "markdown",
   "metadata": {},
   "source": [
    "### Statement 3"
   ]
  },
  {
   "cell_type": "code",
   "execution_count": 66,
   "metadata": {},
   "outputs": [
    {
     "data": {
      "text/plain": [
       "<AxesSubplot:ylabel='Frequency'>"
      ]
     },
     "execution_count": 66,
     "metadata": {},
     "output_type": "execute_result"
    },
    {
     "data": {
      "image/png": "[encoded data removed]",
      "text/plain": [
       "<Figure size 432x288 with 1 Axes>"
      ]
     },
     "metadata": {},
     "output_type": "display_data"
    }
   ],
   "source": [
    "sample_max_temp2 = df['max_temp'].sample(25)\n",
    "sample_max_temp2.plot(kind='hist')"
   ]
  },
  {
   "cell_type": "code",
   "execution_count": 67,
   "metadata": {},
   "outputs": [
    {
     "data": {
      "text/plain": [
       "(16.076, 5.642862748640977, 25)"
      ]
     },
     "execution_count": 67,
     "metadata": {},
     "output_type": "execute_result"
    }
   ],
   "source": [
    "sample_max_temp2.mean(), statistics.stdev(sample_max_temp2), len(sample_max_temp2)"
   ]
  },
  {
   "cell_type": "code",
   "execution_count": 68,
   "metadata": {},
   "outputs": [
    {
     "data": {
      "text/plain": [
       "6.554753578982714"
      ]
     },
     "execution_count": 68,
     "metadata": {},
     "output_type": "execute_result"
    }
   ],
   "source": [
    "df['max_temp'].std()"
   ]
  },
  {
   "cell_type": "code",
   "execution_count": 71,
   "metadata": {},
   "outputs": [
    {
     "data": {
      "text/plain": [
       "17.78678588430414"
      ]
     },
     "execution_count": 71,
     "metadata": {},
     "output_type": "execute_result"
    }
   ],
   "source": [
    "n=len(sample_max_temp2)\n",
    "s=statistics.stdev(sample_max_temp2)\n",
    "sigma=df['max_temp'].std()\n",
    "\n",
    "chisquare = ((n-1)*s**2) / sigma**2\n",
    "chisquare"
   ]
  },
  {
   "cell_type": "markdown",
   "metadata": {},
   "source": [
    "### Statement 4"
   ]
  },
  {
   "cell_type": "code",
   "execution_count": 76,
   "metadata": {},
   "outputs": [
    {
     "data": {
      "text/plain": [
       "<AxesSubplot:ylabel='Frequency'>"
      ]
     },
     "execution_count": 76,
     "metadata": {},
     "output_type": "execute_result"
    },
    {
     "data": {
      "image/png": "[encoded data removed]",
      "text/plain": [
       "<Figure size 432x288 with 1 Axes>"
      ]
     },
     "metadata": {},
     "output_type": "display_data"
    }
   ],
   "source": [
    "sample_max_temp3 = df['max_temp'].sample(20)\n",
    "sample_max_temp3.plot(kind='hist')"
   ]
  },
  {
   "cell_type": "code",
   "execution_count": 77,
   "metadata": {},
   "outputs": [
    {
     "data": {
      "text/plain": [
       "(16.380000000000003, 5.472861274170559, 20)"
      ]
     },
     "execution_count": 77,
     "metadata": {},
     "output_type": "execute_result"
    }
   ],
   "source": [
    "sample_max_temp3.mean(), statistics.stdev(sample_max_temp3), len(sample_max_temp3)"
   ]
  },
  {
   "cell_type": "code",
   "execution_count": null,
   "metadata": {},
   "outputs": [
    {
     "data": {
      "text/plain": [
       "17.78678588430414"
      ]
     },
     "metadata": {},
     "output_type": "display_data"
    }
   ],
   "source": [
    "n=len(sample_max_temp2)\n",
    "s=statistics.stdev(sample_max_temp2)\n",
    "sigma=df['max_temp'].std()\n",
    "\n",
    "chisquare = ((n-1)*s**2) / sigma**2\n",
    "chisquare"
   ]
  },
  {
   "cell_type": "code",
   "execution_count": 78,
   "metadata": {},
   "outputs": [
    {
     "data": {
      "text/plain": [
       "(13.819990618531838, 18.940009381468162)"
      ]
     },
     "execution_count": 78,
     "metadata": {},
     "output_type": "execute_result"
    }
   ],
   "source": [
    "B = 16.38 - (2.093 * 5.47/math.sqrt(20))\n",
    "A = 16.38 + (2.093 * 5.47/math.sqrt(20))\n",
    "B, A"
   ]
  },
  {
   "cell_type": "code",
   "execution_count": 80,
   "metadata": {},
   "outputs": [
    {
     "data": {
      "text/plain": [
       "2.5600093814681615"
      ]
     },
     "execution_count": 80,
     "metadata": {},
     "output_type": "execute_result"
    }
   ],
   "source": [
    "2.093 * 5.47/math.sqrt(20)"
   ]
  },
  {
   "cell_type": "code",
   "execution_count": null,
   "metadata": {},
   "outputs": [],
   "source": []
  }
 ],
 "metadata": {
  "interpreter": {
   "hash": "b2b19c325018a7ac1900585b3cdfc79453af8fc91b67ee75be2d43f298d7031f"
  },
  "kernelspec": {
   "display_name": "Python 3.8.5 ('ml')",
   "language": "python",
   "name": "python3"
  },
  "language_info": {
   "codemirror_mode": {
    "name": "ipython",
    "version": 3
   },
   "file_extension": ".py",
   "mimetype": "text/x-python",
   "name": "python",
   "nbconvert_exporter": "python",
   "pygments_lexer": "ipython3",
   "version": "3.8.5"
  },
  "orig_nbformat": 4
 },
 "nbformat": 4,
 "nbformat_minor": 2
}
